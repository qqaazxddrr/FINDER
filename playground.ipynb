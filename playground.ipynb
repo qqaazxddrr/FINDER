{
 "cells": [
  {
   "cell_type": "code",
   "execution_count": 69,
   "outputs": [],
   "source": [
    "import numpy as np\n",
    "import networkx as nx\n",
    "import random\n",
    "import copy\n",
    "from sklearn.preprocessing import normalize"
   ],
   "metadata": {
    "collapsed": false,
    "pycharm": {
     "name": "#%%\n",
     "is_executing": false
    }
   }
  },
  {
   "cell_type": "code",
   "execution_count": 51,
   "metadata": {
    "collapsed": true,
    "pycharm": {
     "is_executing": false
    }
   },
   "outputs": [],
   "source": [
    "max_n = 50\n",
    "min_n = 30\n",
    "cur_n = np.random.randint(max_n - min_n + 1) + min_n"
   ]
  },
  {
   "cell_type": "code",
   "execution_count": 52,
   "outputs": [],
   "source": [
    "g = nx.barabasi_albert_graph(n=cur_n, m=4)\n",
    "\n"
   ],
   "metadata": {
    "collapsed": false,
    "pycharm": {
     "name": "#%%\n",
     "is_executing": false
    }
   }
  },
  {
   "cell_type": "code",
   "execution_count": 53,
   "outputs": [],
   "source": [
    "def set_edge_weight(g):\n",
    "    a=nx.adjacency_matrix(g).todense()\n",
    "    a=np.array(a+np.eye(cur_n))\n",
    "    b=np.random.rand(cur_n,cur_n)\n",
    "    c=a*b\n",
    "    edge_weight = normalize(c, axis=0, norm='l1')\n",
    "    return edge_weight\n"
   ],
   "metadata": {
    "collapsed": false,
    "pycharm": {
     "name": "#%%\n",
     "is_executing": false
    }
   }
  },
  {
   "cell_type": "code",
   "execution_count": 56,
   "outputs": [],
   "source": [
    "seed=random.sample(g.nodes(),5)"
   ],
   "metadata": {
    "collapsed": false,
    "pycharm": {
     "name": "#%%\n",
     "is_executing": false
    }
   }
  },
  {
   "cell_type": "code",
   "execution_count": 58,
   "outputs": [],
   "source": [
    "if type(g) == nx.MultiGraph or type(g) == nx.MultiDiGraph:\n",
    "      raise Exception( \\\n",
    "          \"linear_threshold() is not defined for graphs with multiedges.\")\n",
    "\n",
    "for s in seed:\n",
    "    if s not in g.nodes():\n",
    "      raise Exception(\"seed\", s, \"is not in graph\")\n",
    "\n"
   ],
   "metadata": {
    "collapsed": false,
    "pycharm": {
     "name": "#%%\n",
     "is_executing": false
    }
   }
  },
  {
   "cell_type": "code",
   "execution_count": 60,
   "outputs": [],
   "source": [
    "# change to directed graph\n",
    "if not g.is_directed():\n",
    "    DG = g.to_directed()\n",
    "else:\n",
    "    DG = copy.deepcopy(g)        # copy.deepcopy 深拷贝 拷贝对象及其子对象"
   ],
   "metadata": {
    "collapsed": false,
    "pycharm": {
     "name": "#%%\n",
     "is_executing": false
    }
   }
  },
  {
   "cell_type": "code",
   "execution_count": 61,
   "outputs": [],
   "source": [
    "# init thresholds\n",
    "for n in DG.nodes():\n",
    "    if 'threshold' not in DG.node[n]:\n",
    "        DG.node[n]['threshold'] = random.random()\n",
    "    elif DG.node[n]['threshold'] > 1:\n",
    "        raise Exception(\"node threshold:\", DG.node[n]['threshold'], \\\n",
    "      \"cannot be larger than 1\")"
   ],
   "metadata": {
    "collapsed": false,
    "pycharm": {
     "name": "#%%\n",
     "is_executing": false
    }
   }
  },
  {
   "cell_type": "code",
   "execution_count": 62,
   "outputs": [],
   "source": [
    "edge_weight = set_edge_weight(DG)"
   ],
   "metadata": {
    "collapsed": false,
    "pycharm": {
     "name": "#%%\n",
     "is_executing": false
    }
   }
  },
  {
   "cell_type": "code",
   "execution_count": 63,
   "outputs": [],
   "source": [
    "# init influence weight\n",
    "in_deg = DG.in_degree()       #获取所有节点的入度\n",
    "for e in DG.edges():\n",
    "    if 'influence' not in DG[e[0]][e[1]]:\n",
    "        DG[e[0]][e[1]]['influence'] =  edge_weight[e[0]][e[1]]   #计算边的权重\n",
    "    elif DG[e[0]][e[1]]['influence'] > 1:\n",
    "        raise Exception(\"edge influence:\", DG[e[0]][e[1]]['influence'], \\\n",
    "      \"cannot be larger than 1\")"
   ],
   "metadata": {
    "collapsed": false,
    "pycharm": {
     "name": "#%%\n",
     "is_executing": false
    }
   }
  },
  {
   "cell_type": "code",
   "execution_count": 65,
   "outputs": [],
   "source": [
    "def _influence_sum(G, froms, to):\n",
    "  influence_sum = 0.0\n",
    "  for f in froms:\n",
    "    influence_sum += G[f][to]['influence']\n",
    "  return influence_sum"
   ],
   "metadata": {
    "collapsed": false,
    "pycharm": {
     "name": "#%%\n",
     "is_executing": false
    }
   }
  },
  {
   "cell_type": "code",
   "execution_count": 66,
   "outputs": [],
   "source": [
    "def _diffuse_one_round(G, A):\n",
    "  activated_nodes_of_this_round = set()\n",
    "  for s in A:\n",
    "    nbs = G.successors(s)\n",
    "    for nb in nbs:\n",
    "      if nb in A:\n",
    "        continue\n",
    "      active_nb = list(set(G.predecessors(nb)).intersection(set(A)))\n",
    "      if _influence_sum(G, active_nb, nb) >= G.node[nb]['threshold']:\n",
    "        activated_nodes_of_this_round.add(nb)\n",
    "  A.extend(list(activated_nodes_of_this_round))\n",
    "  return A, list(activated_nodes_of_this_round)"
   ],
   "metadata": {
    "collapsed": false,
    "pycharm": {
     "name": "#%%\n",
     "is_executing": false
    }
   }
  },
  {
   "cell_type": "code",
   "execution_count": 67,
   "outputs": [],
   "source": [
    "def _diffuse_all(G, A):\n",
    "  layer_i_nodes = [ ]\n",
    "  layer_i_nodes.append([i for i in A])\n",
    "  while True:\n",
    "    len_old = len(A)\n",
    "    A, activated_nodes_of_this_round = _diffuse_one_round(G, A)\n",
    "    layer_i_nodes.append(activated_nodes_of_this_round)\n",
    "    if len(A) == len_old:\n",
    "      break\n",
    "  return layer_i_nodes"
   ],
   "metadata": {
    "collapsed": false,
    "pycharm": {
     "name": "#%%\n",
     "is_executing": false
    }
   }
  },
  {
   "cell_type": "code",
   "execution_count": 71,
   "outputs": [],
   "source": [
    "# perform diffusion\n",
    "A = copy.deepcopy(seed)"
   ],
   "metadata": {
    "collapsed": false,
    "pycharm": {
     "name": "#%%\n",
     "is_executing": false
    }
   }
  },
  {
   "cell_type": "code",
   "execution_count": 72,
   "outputs": [],
   "source": [
    "result=_diffuse_all(DG, A)\n",
    "\n"
   ],
   "metadata": {
    "collapsed": false,
    "pycharm": {
     "name": "#%%\n",
     "is_executing": false
    }
   }
  },
  {
   "cell_type": "code",
   "execution_count": 73,
   "outputs": [
    {
     "data": {
      "text/plain": "[[13, 20, 31, 23, 29],\n [9, 18, 3, 7],\n [37, 12, 47, 17, 19, 25, 30],\n [24, 41, 21],\n [22],\n []]"
     },
     "metadata": {},
     "output_type": "execute_result",
     "execution_count": 73
    }
   ],
   "source": [
    "result"
   ],
   "metadata": {
    "collapsed": false,
    "pycharm": {
     "name": "#%%\n",
     "is_executing": false
    }
   }
  },
  {
   "cell_type": "code",
   "execution_count": null,
   "outputs": [],
   "source": [
    "\n"
   ],
   "metadata": {
    "collapsed": false,
    "pycharm": {
     "name": "#%%\n"
    }
   }
  }
 ],
 "metadata": {
  "kernelspec": {
   "display_name": "Python 3",
   "language": "python",
   "name": "python3"
  },
  "language_info": {
   "codemirror_mode": {
    "name": "ipython",
    "version": 2
   },
   "file_extension": ".py",
   "mimetype": "text/x-python",
   "name": "python",
   "nbconvert_exporter": "python",
   "pygments_lexer": "ipython2",
   "version": "2.7.6"
  },
  "pycharm": {
   "stem_cell": {
    "cell_type": "raw",
    "source": [],
    "metadata": {
     "collapsed": false
    }
   }
  }
 },
 "nbformat": 4,
 "nbformat_minor": 0
}