{
 "cells": [
  {
   "cell_type": "code",
   "execution_count": 685,
   "outputs": [],
   "source": [
    "import numpy as np\n",
    "import networkx as nx\n",
    "import random\n",
    "import copy\n",
    "import time\n",
    "from sklearn.preprocessing import normalize\n",
    "import matplotlib.pyplot as plt\n",
    "\n",
    "\n",
    "\n"
   ],
   "metadata": {
    "collapsed": false,
    "pycharm": {
     "name": "#%%\n",
     "is_executing": false
    }
   }
  },
  {
   "cell_type": "code",
   "execution_count": 686,
   "outputs": [],
   "source": [
    "def set_edge_weight(g):\n",
    "    a=nx.adjacency_matrix(g).todense()\n",
    "    a=np.array(a+np.eye(cur_n))\n",
    "    b=np.random.rand(cur_n,cur_n)\n",
    "    c=a*b\n",
    "    edge_weight = normalize(c, axis=0, norm='l1')\n",
    "    return edge_weight\n"
   ],
   "metadata": {
    "collapsed": false,
    "pycharm": {
     "name": "#%%\n",
     "is_executing": false
    }
   }
  },
  {
   "cell_type": "code",
   "execution_count": 687,
   "outputs": [],
   "source": [
    "def preprocess(g):\n",
    "    seed=random.sample(g.nodes(),round(cur_n*seed_perc))\n",
    "    if type(g) == nx.MultiGraph or type(g) == nx.MultiDiGraph:\n",
    "        raise Exception( \\\n",
    "          \"linear_threshold() is not defined for graphs with multiedges.\")\n",
    "    for s in seed:\n",
    "        if s not in g.nodes():\n",
    "            raise Exception(\"seed\", s, \"is not in graph\")\n",
    "\n",
    "    # change to directed graph\n",
    "    if not g.is_directed():\n",
    "        DG = g.to_directed()\n",
    "    else:\n",
    "        DG = copy.deepcopy(g)        # copy.deepcopy 深拷贝 拷贝对象及其子对象\n",
    "\n",
    "    # init thresholds\n",
    "    for n in DG.nodes():\n",
    "        if 'threshold' not in DG.node[n]:\n",
    "            DG.node[n]['threshold'] = random.random()\n",
    "        elif DG.node[n]['threshold'] > 1:\n",
    "            raise Exception(\"node threshold:\", DG.node[n]['threshold'], \\\n",
    "                            \"cannot be larger than 1\")\n",
    "\n",
    "    edge_weight = set_edge_weight(DG)\n",
    "\n",
    "    # init influence weight\n",
    "    for e in DG.edges():\n",
    "        if 'influence' not in DG[e[0]][e[1]]:\n",
    "            DG[e[0]][e[1]]['influence'] =  edge_weight[e[0]][e[1]]   #设置边的权重\n",
    "        elif DG[e[0]][e[1]]['influence'] > 1:\n",
    "            raise Exception(\"edge influence:\", DG[e[0]][e[1]]['influence'], \\\n",
    "                            \"cannot be larger than 1\")\n",
    "    return DG,seed"
   ],
   "metadata": {
    "collapsed": false,
    "pycharm": {
     "name": "#%%\n",
     "is_executing": false
    }
   }
  },
  {
   "cell_type": "code",
   "execution_count": 688,
   "outputs": [],
   "source": [
    "def _influence_sum(G, froms, to):\n",
    "  influence_sum = 0.0\n",
    "  for f in froms:\n",
    "    influence_sum += G[f][to]['influence']\n",
    "  return influence_sum"
   ],
   "metadata": {
    "collapsed": false,
    "pycharm": {
     "name": "#%%\n",
     "is_executing": false
    }
   }
  },
  {
   "cell_type": "code",
   "execution_count": 689,
   "outputs": [],
   "source": [
    "def _diffuse_one_round(G, A):\n",
    "  activated_nodes_of_this_round = set()\n",
    "  for s in A:\n",
    "    nbs = G.successors(s)\n",
    "    for nb in nbs:\n",
    "      if nb in A:\n",
    "        continue\n",
    "      active_nb = list(set(G.predecessors(nb)).intersection(set(A)))\n",
    "      if _influence_sum(G, active_nb, nb) >= G.node[nb]['threshold']:\n",
    "        activated_nodes_of_this_round.add(nb)\n",
    "  A.extend(list(activated_nodes_of_this_round))\n",
    "  return A, list(activated_nodes_of_this_round)"
   ],
   "metadata": {
    "collapsed": false,
    "pycharm": {
     "name": "#%%\n",
     "is_executing": false
    }
   }
  },
  {
   "cell_type": "code",
   "execution_count": 690,
   "outputs": [],
   "source": [
    "def _diffuse_all(g, A):\n",
    "  layer_i_nodes = [ ]\n",
    "  layer_i_nodes.append([i for i in A])\n",
    "  while True:\n",
    "    len_old = len(A)\n",
    "    A, activated_nodes_of_this_round = _diffuse_one_round(g, A)\n",
    "    layer_i_nodes.append(activated_nodes_of_this_round)\n",
    "    if len(A) == len_old:\n",
    "      break\n",
    "  return layer_i_nodes"
   ],
   "metadata": {
    "collapsed": false,
    "pycharm": {
     "name": "#%%\n",
     "is_executing": false
    }
   }
  },
  {
   "cell_type": "code",
   "execution_count": 691,
   "outputs": [],
   "source": [
    "def accurate_influence(g,seed):\n",
    "    # perform diffusion\n",
    "    A = copy.deepcopy(seed)\n",
    "    result=_diffuse_all(g, A)\n",
    "    result_flat = [item for sublist in result for item in sublist]\n",
    "    return len(result_flat),len(result_flat)/len(g.nodes())\n",
    "\n",
    "\n",
    "\n",
    "\n"
   ],
   "metadata": {
    "collapsed": false,
    "pycharm": {
     "name": "#%%\n",
     "is_executing": false
    }
   }
  },
  {
   "cell_type": "code",
   "execution_count": 692,
   "outputs": [],
   "source": [
    "def live_edge(g,seed,iter):\n",
    "    covered_list=[]\n",
    "    for t in range(iter): \n",
    "        # live-edge sample\n",
    "        live_edge_sample = nx.DiGraph()\n",
    "        for v in g.nodes():\n",
    "            u_list = list(g.predecessors(v))\n",
    "            weights=[g[u][v]['influence'] for u in u_list]\n",
    "            u_list.append(v)\n",
    "            weights.append(1-sum(weights))\n",
    "            u_select=np.random.choice(u_list, p=weights)\n",
    "            if v!=u_select:\n",
    "                live_edge_sample.add_edge(u_select,v)\n",
    "    \n",
    "        covered = set()\n",
    "        for s in seed:\n",
    "            if s in live_edge_sample.nodes():\n",
    "                _coverd_by_a_seed=set(nx.bfs_tree(live_edge_sample,s))\n",
    "                covered=covered.union(_coverd_by_a_seed,covered)\n",
    "        covered_list.append(len(covered))\n",
    "    coverd_mean=sum(covered_list)/len(covered_list)\n",
    "    return coverd_mean,coverd_mean/len(g.nodes())"
   ],
   "metadata": {
    "collapsed": false,
    "pycharm": {
     "name": "#%%\n",
     "is_executing": false
    }
   }
  },
  {
   "cell_type": "code",
   "execution_count": 693,
   "outputs": [],
   "source": [
    "influence_auc_pct_list=[]\n",
    "influence_le_pct_list=[]\n",
    "for _ in range(100):\n",
    "    max_n = 50\n",
    "    min_n = 30\n",
    "    seed_perc = 0.1\n",
    "    le_iter=10\n",
    "    cur_n = np.random.randint(max_n - min_n + 1) + min_n\n",
    "    g_synthesis = nx.barabasi_albert_graph(n=cur_n, m=4)\n",
    "    DG,seed=preprocess(g_synthesis)\n",
    "    influence_auc,influence_auc_pct=accurate_influence(DG,seed)\n",
    "    influence_le,influence_le_pct=live_edge(DG,seed,le_iter)\n",
    "    \n",
    "    \n",
    "    # print(\n",
    "    #     \"网络规模为:{} 精确遍历拓展度为：{},{},活跃边图拓展度为:{},{}\".format(\n",
    "    #     len(DG.nodes()),\n",
    "    #     influence_auc,\n",
    "    #     influence_auc_pct,\n",
    "    #     influence_le,\n",
    "    #     influence_le_pct\n",
    "    #     )\n",
    "    # )\n",
    "    influence_auc_pct_list.append(influence_auc_pct)\n",
    "    influence_le_pct_list.append(influence_le_pct)"
   ],
   "metadata": {
    "collapsed": false,
    "pycharm": {
     "name": "#%%\n",
     "is_executing": false
    }
   }
  },
  {
   "cell_type": "code",
   "execution_count": 694,
   "outputs": [
    {
     "data": {
      "text/plain": "<Figure size 432x288 with 1 Axes>",
      "image/png": "[encoded data removed]"
     },
     "metadata": {
      "needs_background": "light"
     },
     "output_type": "display_data"
    }
   ],
   "source": [
    "plt.plot(influence_auc_pct_list,'-',label='AUC')\n",
    "plt.plot(influence_le_pct_list,'-',label='live edge')\n",
    "plt.legend()\n",
    "plt.savefig('C:\\\\Users\\\\gaok\\\\PycharmProjects\\\\FINDER\\\\Result\\\\{}_{}_le_{}.jpg'.format(min_n,max_n,le_iter))"
   ],
   "metadata": {
    "collapsed": false,
    "pycharm": {
     "name": "#%%\n",
     "is_executing": false
    }
   }
  },
  {
   "cell_type": "code",
   "execution_count": 694,
   "outputs": [],
   "source": [],
   "metadata": {
    "collapsed": false,
    "pycharm": {
     "name": "#%%\n",
     "is_executing": false
    }
   }
  },
  {
   "cell_type": "code",
   "execution_count": 694,
   "outputs": [],
   "source": [
    "\n"
   ],
   "metadata": {
    "collapsed": false,
    "pycharm": {
     "name": "#%%\n",
     "is_executing": false
    }
   }
  }
 ],
 "metadata": {
  "kernelspec": {
   "display_name": "Python 3",
   "language": "python",
   "name": "python3"
  },
  "language_info": {
   "codemirror_mode": {
    "name": "ipython",
    "version": 2
   },
   "file_extension": ".py",
   "mimetype": "text/x-python",
   "name": "python",
   "nbconvert_exporter": "python",
   "pygments_lexer": "ipython2",
   "version": "2.7.6"
  },
  "pycharm": {
   "stem_cell": {
    "cell_type": "raw",
    "source": [],
    "metadata": {
     "collapsed": false
    }
   }
  }
 },
 "nbformat": 4,
 "nbformat_minor": 0
}